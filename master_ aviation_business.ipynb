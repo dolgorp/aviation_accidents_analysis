{
 "cells": [
  {
   "cell_type": "markdown",
   "metadata": {},
   "source": [
    "# **Aviation Accidents Analysis**\n",
    "Authors: Dolgor Purbueva"
   ]
  },
  {
   "cell_type": "markdown",
   "metadata": {},
   "source": [
    "![Alt text](images/image1.png)"
   ]
  },
  {
   "cell_type": "markdown",
   "metadata": {},
   "source": [
    "## Overview\n",
    "\n",
    "The project aims to support the development of a new aviation business line by providing three business recommendations based on data analysis. \n",
    "\n",
    "The objective is to identify the lowest-risk aircraft makes and models for the company to consider for its new aviation ventures. The analysis focuses on key variables such as aircraft make and model, fatalities, time of accidents and accident locations. By addressing missing data, interpreting and visualizing the information, the analysis seeks to offer data-driven insights. \n",
    "\n",
    "The findings will help the company mitigate potential risks and make informed decisions about aircraft purchases, ensuring a safe and strategic entry into the aviation market."
   ]
  },
  {
   "cell_type": "markdown",
   "metadata": {},
   "source": [
    "## Business Problem"
   ]
  },
  {
   "cell_type": "markdown",
   "metadata": {},
   "source": [
    "Company is expanding into the aviation industry to diversify it's portfolio by purchasing and operating aircrafts for profit enterprises. The company needs to expand knowledge about aviation business and the potential risks associated with different aircrafts. Questions this analysis will try to answer include - which directions of aviation business to consider, which aircraft present the lowest risk and what factors contribute to evaluated safety."
   ]
  },
  {
   "cell_type": "markdown",
   "metadata": {},
   "source": [
    "## Data Used"
   ]
  },
  {
   "cell_type": "markdown",
   "metadata": {},
   "source": [
    "The [National Transportation Safety Board aviation accident dataset](https://www.kaggle.com/datasets/khsamaha/aviation-accident-database-synopses) contains information from 1962 and later about civil aviation accidents and selected incidents within the United States, its territories and possessions, and in international waters. Detailed accidents reports can be accessed on [NTSB website](https://www.ntsb.gov/Pages/AviationQueryV2.aspx)."
   ]
  },
  {
   "cell_type": "markdown",
   "metadata": {},
   "source": [
    "## Import Libraries and Data"
   ]
  },
  {
   "cell_type": "code",
   "execution_count": 1,
   "metadata": {
    "_cell_guid": "b1076dfc-b9ad-4769-8c92-a6c4dae69d19",
    "_uuid": "8f2839f25d086af736a60e9eeb907d3b93b6e0e5",
    "execution": {
     "iopub.execute_input": "2024-05-23T22:38:29.984238Z",
     "iopub.status.busy": "2024-05-23T22:38:29.983840Z",
     "iopub.status.idle": "2024-05-23T22:38:30.101504Z",
     "shell.execute_reply": "2024-05-23T22:38:30.100013Z",
     "shell.execute_reply.started": "2024-05-23T22:38:29.984206Z"
    },
    "scrolled": true
   },
   "outputs": [],
   "source": [
    "import numpy as np \n",
    "import pandas as pd\n",
    "import matplotlib.pyplot as plt\n",
    "import seaborn as sns\n",
    "\n",
    "df = pd.read_csv('data/AviationData.csv', engine = 'python')"
   ]
  },
  {
   "cell_type": "markdown",
   "metadata": {},
   "source": [
    "## Understanding Data"
   ]
  },
  {
   "cell_type": "code",
   "execution_count": 2,
   "metadata": {},
   "outputs": [
    {
     "data": {
      "text/html": [
       "<div>\n",
       "<style scoped>\n",
       "    .dataframe tbody tr th:only-of-type {\n",
       "        vertical-align: middle;\n",
       "    }\n",
       "\n",
       "    .dataframe tbody tr th {\n",
       "        vertical-align: top;\n",
       "    }\n",
       "\n",
       "    .dataframe thead th {\n",
       "        text-align: right;\n",
       "    }\n",
       "</style>\n",
       "<table border=\"1\" class=\"dataframe\">\n",
       "  <thead>\n",
       "    <tr style=\"text-align: right;\">\n",
       "      <th></th>\n",
       "      <th>Event.Id</th>\n",
       "      <th>Investigation.Type</th>\n",
       "      <th>Accident.Number</th>\n",
       "      <th>Event.Date</th>\n",
       "      <th>Location</th>\n",
       "      <th>Country</th>\n",
       "      <th>Latitude</th>\n",
       "      <th>Longitude</th>\n",
       "      <th>Airport.Code</th>\n",
       "      <th>Airport.Name</th>\n",
       "      <th>...</th>\n",
       "      <th>Purpose.of.flight</th>\n",
       "      <th>Air.carrier</th>\n",
       "      <th>Total.Fatal.Injuries</th>\n",
       "      <th>Total.Serious.Injuries</th>\n",
       "      <th>Total.Minor.Injuries</th>\n",
       "      <th>Total.Uninjured</th>\n",
       "      <th>Weather.Condition</th>\n",
       "      <th>Broad.phase.of.flight</th>\n",
       "      <th>Report.Status</th>\n",
       "      <th>Publication.Date</th>\n",
       "    </tr>\n",
       "  </thead>\n",
       "  <tbody>\n",
       "    <tr>\n",
       "      <th>0</th>\n",
       "      <td>20001218X45444</td>\n",
       "      <td>Accident</td>\n",
       "      <td>SEA87LA080</td>\n",
       "      <td>1948-10-24</td>\n",
       "      <td>MOOSE CREEK, ID</td>\n",
       "      <td>United States</td>\n",
       "      <td>NaN</td>\n",
       "      <td>NaN</td>\n",
       "      <td>NaN</td>\n",
       "      <td>NaN</td>\n",
       "      <td>...</td>\n",
       "      <td>Personal</td>\n",
       "      <td>NaN</td>\n",
       "      <td>2.0</td>\n",
       "      <td>0.0</td>\n",
       "      <td>0.0</td>\n",
       "      <td>0.0</td>\n",
       "      <td>UNK</td>\n",
       "      <td>Cruise</td>\n",
       "      <td>Probable Cause</td>\n",
       "      <td>NaN</td>\n",
       "    </tr>\n",
       "    <tr>\n",
       "      <th>1</th>\n",
       "      <td>20001218X45447</td>\n",
       "      <td>Accident</td>\n",
       "      <td>LAX94LA336</td>\n",
       "      <td>1962-07-19</td>\n",
       "      <td>BRIDGEPORT, CA</td>\n",
       "      <td>United States</td>\n",
       "      <td>NaN</td>\n",
       "      <td>NaN</td>\n",
       "      <td>NaN</td>\n",
       "      <td>NaN</td>\n",
       "      <td>...</td>\n",
       "      <td>Personal</td>\n",
       "      <td>NaN</td>\n",
       "      <td>4.0</td>\n",
       "      <td>0.0</td>\n",
       "      <td>0.0</td>\n",
       "      <td>0.0</td>\n",
       "      <td>UNK</td>\n",
       "      <td>Unknown</td>\n",
       "      <td>Probable Cause</td>\n",
       "      <td>19-09-1996</td>\n",
       "    </tr>\n",
       "    <tr>\n",
       "      <th>2</th>\n",
       "      <td>20061025X01555</td>\n",
       "      <td>Accident</td>\n",
       "      <td>NYC07LA005</td>\n",
       "      <td>1974-08-30</td>\n",
       "      <td>Saltville, VA</td>\n",
       "      <td>United States</td>\n",
       "      <td>36.922223</td>\n",
       "      <td>-81.878056</td>\n",
       "      <td>NaN</td>\n",
       "      <td>NaN</td>\n",
       "      <td>...</td>\n",
       "      <td>Personal</td>\n",
       "      <td>NaN</td>\n",
       "      <td>3.0</td>\n",
       "      <td>NaN</td>\n",
       "      <td>NaN</td>\n",
       "      <td>NaN</td>\n",
       "      <td>IMC</td>\n",
       "      <td>Cruise</td>\n",
       "      <td>Probable Cause</td>\n",
       "      <td>26-02-2007</td>\n",
       "    </tr>\n",
       "    <tr>\n",
       "      <th>3</th>\n",
       "      <td>20001218X45448</td>\n",
       "      <td>Accident</td>\n",
       "      <td>LAX96LA321</td>\n",
       "      <td>1977-06-19</td>\n",
       "      <td>EUREKA, CA</td>\n",
       "      <td>United States</td>\n",
       "      <td>NaN</td>\n",
       "      <td>NaN</td>\n",
       "      <td>NaN</td>\n",
       "      <td>NaN</td>\n",
       "      <td>...</td>\n",
       "      <td>Personal</td>\n",
       "      <td>NaN</td>\n",
       "      <td>2.0</td>\n",
       "      <td>0.0</td>\n",
       "      <td>0.0</td>\n",
       "      <td>0.0</td>\n",
       "      <td>IMC</td>\n",
       "      <td>Cruise</td>\n",
       "      <td>Probable Cause</td>\n",
       "      <td>12-09-2000</td>\n",
       "    </tr>\n",
       "    <tr>\n",
       "      <th>4</th>\n",
       "      <td>20041105X01764</td>\n",
       "      <td>Accident</td>\n",
       "      <td>CHI79FA064</td>\n",
       "      <td>1979-08-02</td>\n",
       "      <td>Canton, OH</td>\n",
       "      <td>United States</td>\n",
       "      <td>NaN</td>\n",
       "      <td>NaN</td>\n",
       "      <td>NaN</td>\n",
       "      <td>NaN</td>\n",
       "      <td>...</td>\n",
       "      <td>Personal</td>\n",
       "      <td>NaN</td>\n",
       "      <td>1.0</td>\n",
       "      <td>2.0</td>\n",
       "      <td>NaN</td>\n",
       "      <td>0.0</td>\n",
       "      <td>VMC</td>\n",
       "      <td>Approach</td>\n",
       "      <td>Probable Cause</td>\n",
       "      <td>16-04-1980</td>\n",
       "    </tr>\n",
       "  </tbody>\n",
       "</table>\n",
       "<p>5 rows × 31 columns</p>\n",
       "</div>"
      ],
      "text/plain": [
       "         Event.Id Investigation.Type Accident.Number  Event.Date  \\\n",
       "0  20001218X45444           Accident      SEA87LA080  1948-10-24   \n",
       "1  20001218X45447           Accident      LAX94LA336  1962-07-19   \n",
       "2  20061025X01555           Accident      NYC07LA005  1974-08-30   \n",
       "3  20001218X45448           Accident      LAX96LA321  1977-06-19   \n",
       "4  20041105X01764           Accident      CHI79FA064  1979-08-02   \n",
       "\n",
       "          Location        Country   Latitude   Longitude Airport.Code  \\\n",
       "0  MOOSE CREEK, ID  United States        NaN         NaN          NaN   \n",
       "1   BRIDGEPORT, CA  United States        NaN         NaN          NaN   \n",
       "2    Saltville, VA  United States  36.922223  -81.878056          NaN   \n",
       "3       EUREKA, CA  United States        NaN         NaN          NaN   \n",
       "4       Canton, OH  United States        NaN         NaN          NaN   \n",
       "\n",
       "  Airport.Name  ... Purpose.of.flight Air.carrier Total.Fatal.Injuries  \\\n",
       "0          NaN  ...          Personal         NaN                  2.0   \n",
       "1          NaN  ...          Personal         NaN                  4.0   \n",
       "2          NaN  ...          Personal         NaN                  3.0   \n",
       "3          NaN  ...          Personal         NaN                  2.0   \n",
       "4          NaN  ...          Personal         NaN                  1.0   \n",
       "\n",
       "  Total.Serious.Injuries Total.Minor.Injuries Total.Uninjured  \\\n",
       "0                    0.0                  0.0             0.0   \n",
       "1                    0.0                  0.0             0.0   \n",
       "2                    NaN                  NaN             NaN   \n",
       "3                    0.0                  0.0             0.0   \n",
       "4                    2.0                  NaN             0.0   \n",
       "\n",
       "  Weather.Condition  Broad.phase.of.flight   Report.Status Publication.Date  \n",
       "0               UNK                 Cruise  Probable Cause              NaN  \n",
       "1               UNK                Unknown  Probable Cause       19-09-1996  \n",
       "2               IMC                 Cruise  Probable Cause       26-02-2007  \n",
       "3               IMC                 Cruise  Probable Cause       12-09-2000  \n",
       "4               VMC               Approach  Probable Cause       16-04-1980  \n",
       "\n",
       "[5 rows x 31 columns]"
      ]
     },
     "execution_count": 2,
     "metadata": {},
     "output_type": "execute_result"
    }
   ],
   "source": [
    "df.head(5)"
   ]
  },
  {
   "cell_type": "code",
   "execution_count": 3,
   "metadata": {},
   "outputs": [
    {
     "data": {
      "text/plain": [
       "(88889, 31)"
      ]
     },
     "execution_count": 3,
     "metadata": {},
     "output_type": "execute_result"
    }
   ],
   "source": [
    "df.shape\n"
   ]
  },
  {
   "cell_type": "code",
   "execution_count": 4,
   "metadata": {},
   "outputs": [
    {
     "data": {
      "text/plain": [
       "Index(['Event.Id', 'Investigation.Type', 'Accident.Number', 'Event.Date',\n",
       "       'Location', 'Country', 'Latitude', 'Longitude', 'Airport.Code',\n",
       "       'Airport.Name', 'Injury.Severity', 'Aircraft.damage',\n",
       "       'Aircraft.Category', 'Registration.Number', 'Make', 'Model',\n",
       "       'Amateur.Built', 'Number.of.Engines', 'Engine.Type', 'FAR.Description',\n",
       "       'Schedule', 'Purpose.of.flight', 'Air.carrier', 'Total.Fatal.Injuries',\n",
       "       'Total.Serious.Injuries', 'Total.Minor.Injuries', 'Total.Uninjured',\n",
       "       'Weather.Condition', 'Broad.phase.of.flight', 'Report.Status',\n",
       "       'Publication.Date'],\n",
       "      dtype='object')"
      ]
     },
     "execution_count": 4,
     "metadata": {},
     "output_type": "execute_result"
    }
   ],
   "source": [
    "df.columns"
   ]
  },
  {
   "cell_type": "code",
   "execution_count": 5,
   "metadata": {},
   "outputs": [
    {
     "data": {
      "text/html": [
       "<div>\n",
       "<style scoped>\n",
       "    .dataframe tbody tr th:only-of-type {\n",
       "        vertical-align: middle;\n",
       "    }\n",
       "\n",
       "    .dataframe tbody tr th {\n",
       "        vertical-align: top;\n",
       "    }\n",
       "\n",
       "    .dataframe thead th {\n",
       "        text-align: right;\n",
       "    }\n",
       "</style>\n",
       "<table border=\"1\" class=\"dataframe\">\n",
       "  <thead>\n",
       "    <tr style=\"text-align: right;\">\n",
       "      <th></th>\n",
       "      <th>Number.of.Engines</th>\n",
       "      <th>Total.Fatal.Injuries</th>\n",
       "      <th>Total.Serious.Injuries</th>\n",
       "      <th>Total.Minor.Injuries</th>\n",
       "      <th>Total.Uninjured</th>\n",
       "    </tr>\n",
       "  </thead>\n",
       "  <tbody>\n",
       "    <tr>\n",
       "      <th>count</th>\n",
       "      <td>82805.000000</td>\n",
       "      <td>77488.000000</td>\n",
       "      <td>76379.000000</td>\n",
       "      <td>76956.000000</td>\n",
       "      <td>82977.000000</td>\n",
       "    </tr>\n",
       "    <tr>\n",
       "      <th>mean</th>\n",
       "      <td>1.146585</td>\n",
       "      <td>0.647855</td>\n",
       "      <td>0.279881</td>\n",
       "      <td>0.357061</td>\n",
       "      <td>5.325440</td>\n",
       "    </tr>\n",
       "    <tr>\n",
       "      <th>std</th>\n",
       "      <td>0.446510</td>\n",
       "      <td>5.485960</td>\n",
       "      <td>1.544084</td>\n",
       "      <td>2.235625</td>\n",
       "      <td>27.913634</td>\n",
       "    </tr>\n",
       "    <tr>\n",
       "      <th>min</th>\n",
       "      <td>0.000000</td>\n",
       "      <td>0.000000</td>\n",
       "      <td>0.000000</td>\n",
       "      <td>0.000000</td>\n",
       "      <td>0.000000</td>\n",
       "    </tr>\n",
       "    <tr>\n",
       "      <th>25%</th>\n",
       "      <td>1.000000</td>\n",
       "      <td>0.000000</td>\n",
       "      <td>0.000000</td>\n",
       "      <td>0.000000</td>\n",
       "      <td>0.000000</td>\n",
       "    </tr>\n",
       "    <tr>\n",
       "      <th>50%</th>\n",
       "      <td>1.000000</td>\n",
       "      <td>0.000000</td>\n",
       "      <td>0.000000</td>\n",
       "      <td>0.000000</td>\n",
       "      <td>1.000000</td>\n",
       "    </tr>\n",
       "    <tr>\n",
       "      <th>75%</th>\n",
       "      <td>1.000000</td>\n",
       "      <td>0.000000</td>\n",
       "      <td>0.000000</td>\n",
       "      <td>0.000000</td>\n",
       "      <td>2.000000</td>\n",
       "    </tr>\n",
       "    <tr>\n",
       "      <th>max</th>\n",
       "      <td>8.000000</td>\n",
       "      <td>349.000000</td>\n",
       "      <td>161.000000</td>\n",
       "      <td>380.000000</td>\n",
       "      <td>699.000000</td>\n",
       "    </tr>\n",
       "  </tbody>\n",
       "</table>\n",
       "</div>"
      ],
      "text/plain": [
       "       Number.of.Engines  Total.Fatal.Injuries  Total.Serious.Injuries  \\\n",
       "count       82805.000000          77488.000000            76379.000000   \n",
       "mean            1.146585              0.647855                0.279881   \n",
       "std             0.446510              5.485960                1.544084   \n",
       "min             0.000000              0.000000                0.000000   \n",
       "25%             1.000000              0.000000                0.000000   \n",
       "50%             1.000000              0.000000                0.000000   \n",
       "75%             1.000000              0.000000                0.000000   \n",
       "max             8.000000            349.000000              161.000000   \n",
       "\n",
       "       Total.Minor.Injuries  Total.Uninjured  \n",
       "count          76956.000000     82977.000000  \n",
       "mean               0.357061         5.325440  \n",
       "std                2.235625        27.913634  \n",
       "min                0.000000         0.000000  \n",
       "25%                0.000000         0.000000  \n",
       "50%                0.000000         1.000000  \n",
       "75%                0.000000         2.000000  \n",
       "max              380.000000       699.000000  "
      ]
     },
     "execution_count": 5,
     "metadata": {},
     "output_type": "execute_result"
    }
   ],
   "source": [
    "df.describe()"
   ]
  },
  {
   "cell_type": "code",
   "execution_count": 6,
   "metadata": {},
   "outputs": [
    {
     "name": "stdout",
     "output_type": "stream",
     "text": [
      "<class 'pandas.core.frame.DataFrame'>\n",
      "RangeIndex: 88889 entries, 0 to 88888\n",
      "Data columns (total 31 columns):\n",
      " #   Column                  Non-Null Count  Dtype  \n",
      "---  ------                  --------------  -----  \n",
      " 0   Event.Id                88889 non-null  object \n",
      " 1   Investigation.Type      88889 non-null  object \n",
      " 2   Accident.Number         88889 non-null  object \n",
      " 3   Event.Date              88889 non-null  object \n",
      " 4   Location                88837 non-null  object \n",
      " 5   Country                 88663 non-null  object \n",
      " 6   Latitude                34382 non-null  object \n",
      " 7   Longitude               34373 non-null  object \n",
      " 8   Airport.Code            50249 non-null  object \n",
      " 9   Airport.Name            52790 non-null  object \n",
      " 10  Injury.Severity         87889 non-null  object \n",
      " 11  Aircraft.damage         85695 non-null  object \n",
      " 12  Aircraft.Category       32287 non-null  object \n",
      " 13  Registration.Number     87572 non-null  object \n",
      " 14  Make                    88826 non-null  object \n",
      " 15  Model                   88797 non-null  object \n",
      " 16  Amateur.Built           88787 non-null  object \n",
      " 17  Number.of.Engines       82805 non-null  float64\n",
      " 18  Engine.Type             81812 non-null  object \n",
      " 19  FAR.Description         32023 non-null  object \n",
      " 20  Schedule                12582 non-null  object \n",
      " 21  Purpose.of.flight       82697 non-null  object \n",
      " 22  Air.carrier             16648 non-null  object \n",
      " 23  Total.Fatal.Injuries    77488 non-null  float64\n",
      " 24  Total.Serious.Injuries  76379 non-null  float64\n",
      " 25  Total.Minor.Injuries    76956 non-null  float64\n",
      " 26  Total.Uninjured         82977 non-null  float64\n",
      " 27  Weather.Condition       84397 non-null  object \n",
      " 28  Broad.phase.of.flight   61724 non-null  object \n",
      " 29  Report.Status           82508 non-null  object \n",
      " 30  Publication.Date        75118 non-null  object \n",
      "dtypes: float64(5), object(26)\n",
      "memory usage: 21.0+ MB\n"
     ]
    }
   ],
   "source": [
    "df.info()"
   ]
  },
  {
   "cell_type": "markdown",
   "metadata": {},
   "source": [
    "## Data Cleaning\n",
    "\n",
    "Data cleaning will be done in several steps, with each step eliminating unnecessary data and bringing the dataframe to a convenient format:\n",
    "* Handling missing values\n",
    "* Deleting duplicates\n",
    "* Changing data types"
   ]
  },
  {
   "cell_type": "code",
   "execution_count": 7,
   "metadata": {},
   "outputs": [],
   "source": [
    "# Cleaning columns formatting\n",
    "df.columns = df.columns.str.replace('.', ' ').str.strip()\n",
    "\n",
    "# Deleting unnecessary columns\n",
    "df = df.drop(columns=['Investigation Type', 'Accident Number', 'Latitude', 'Longitude', 'Airport Code', 'Registration Number', 'FAR Description', 'Schedule', 'Report Status', 'Publication Date'])"
   ]
  },
  {
   "cell_type": "code",
   "execution_count": 8,
   "metadata": {},
   "outputs": [],
   "source": [
    "# Deleting duplicate rows by unique ID\n",
    "\n",
    "df = df.groupby('Event Id').first().reset_index()"
   ]
  },
  {
   "cell_type": "code",
   "execution_count": 9,
   "metadata": {},
   "outputs": [],
   "source": [
    "# Changin data type for Date column\n",
    "\n",
    "df['Event Date'] = pd.to_datetime(df['Event Date'])"
   ]
  },
  {
   "cell_type": "code",
   "execution_count": 10,
   "metadata": {},
   "outputs": [],
   "source": [
    "# Excluding Amateur Built aircrafts \n",
    "\n",
    "df = df[df['Amateur Built'] == 'No']"
   ]
  },
  {
   "cell_type": "code",
   "execution_count": 11,
   "metadata": {},
   "outputs": [],
   "source": [
    "# Cleaning Make column formatting\n",
    "\n",
    "df['Make'] = df['Make'].str.title()\n",
    "\n",
    "for word in [\".\", \"Ltd\", \"Inc\", \"Air\", \"Company\", \"Co\", \"Helicopter\", \"Design\", \"rp\"]:\n",
    "    df['Make'] = df['Make'].str.replace(word, ' ').str.strip()"
   ]
  },
  {
   "cell_type": "code",
   "execution_count": 12,
   "metadata": {},
   "outputs": [],
   "source": [
    "# Split location in city and state columns\n",
    "\n",
    "df['City'] = df['Location'].str.split(',').str[0].str.title()\n",
    "df['State'] = df['Location'].str.split(',').str[1]"
   ]
  },
  {
   "cell_type": "code",
   "execution_count": 13,
   "metadata": {},
   "outputs": [],
   "source": [
    "#Add a day, month & year columns\n",
    "\n",
    "df['Year'] = df['Event Date'].dt.year\n",
    "df['Month'] = df['Event Date'].dt.month\n",
    "df['Day'] = df['Event Date'].dt.day"
   ]
  },
  {
   "cell_type": "code",
   "execution_count": 14,
   "metadata": {},
   "outputs": [
    {
     "data": {
      "text/plain": [
       "Event Id                      0\n",
       "Event Date                    0\n",
       "Location                     47\n",
       "Country                     216\n",
       "Airport Name              32658\n",
       "Injury Severity             989\n",
       "Aircraft damage            3033\n",
       "Aircraft Category         50813\n",
       "Make                         46\n",
       "Model                        67\n",
       "Amateur Built                 0\n",
       "Number of Engines          5639\n",
       "Engine Type                6605\n",
       "Purpose of flight          5996\n",
       "Air carrier               63846\n",
       "Total Fatal Injuries      10033\n",
       "Total Serious Injuries    10912\n",
       "Total Minor Injuries      10401\n",
       "Total Uninjured            4844\n",
       "Weather Condition          4333\n",
       "Broad phase of flight     24116\n",
       "City                         47\n",
       "State                       530\n",
       "Year                          0\n",
       "Month                         0\n",
       "Day                           0\n",
       "dtype: int64"
      ]
     },
     "execution_count": 14,
     "metadata": {},
     "output_type": "execute_result"
    }
   ],
   "source": [
    "df.isnull().sum()"
   ]
  },
  {
   "cell_type": "markdown",
   "metadata": {},
   "source": [
    "## Data Analysis: Business flights in USA\n",
    "\n",
    "In this analysis we focus on business charter flights in two categories - airplanes and helicopters in the United States. We analyse relevant accidents - dated after 2005, as the aircarft industry has developed significantly and older data points can distort the findings. As an outcome of this analysis we will be able to provide lists of recommended makes for both categories based on calculating accident survival rates."
   ]
  },
  {
   "cell_type": "code",
   "execution_count": 15,
   "metadata": {},
   "outputs": [
    {
     "data": {
      "image/png": "[encoded data removed]",
      "text/plain": [
       "<Figure size 720x432 with 1 Axes>"
      ]
     },
     "metadata": {
      "needs_background": "light"
     },
     "output_type": "display_data"
    }
   ],
   "source": [
    "# Filtering business flights\n",
    "bf = df[df['Purpose of flight'] == 'Business']\n",
    "\n",
    "#Counting accidents in each year/month\n",
    "bf_years = bf.groupby('Year')['Event Id'].count().reset_index(name='count')\n",
    "bf_month = bf.groupby('Month')['Event Id'].count().reset_index(name='count')\n",
    "\n",
    "# Plotting all business flights accindets over years\n",
    "x_y = bf_years['Year']\n",
    "y_y = bf_years['count']\n",
    "\n",
    "plt.figure(figsize=(10, 6))\n",
    "plt.scatter(x_y, y_y, label='Business Flights Accidents')\n",
    "plt.plot(x_y, y_y, linestyle='-', marker='o')  # Adding lines and markers\n",
    "\n",
    "plt.xlabel('Year')\n",
    "plt.ylabel('Business Flights Accidents')\n",
    "plt.title('Business Flights Accidents by Year')\n",
    "plt.legend()\n",
    "plt.grid(True)\n",
    "plt.show()"
   ]
  },
  {
   "cell_type": "code",
   "execution_count": 16,
   "metadata": {},
   "outputs": [],
   "source": [
    "# Filtering by location, time and categories\n",
    "bf = bf[bf['Country'] == 'United States']\n",
    "bf = bf[bf['Year'] > 2005 ]\n",
    "bf = bf[(bf['Aircraft Category'] == 'Airplane') |(bf['Aircraft Category'] == 'Helicopter')]\n",
    "\n",
    "# Cleaning rows with missing values in necessary columns\n",
    "bf = bf.dropna(subset=['Total Fatal Injuries', 'Total Serious Injuries', 'Total Minor Injuries', 'Total Uninjured'])\n",
    "\n",
    "# Adding columns with new data\n",
    "bf['Number of Passengers'] = bf['Total Fatal Injuries'] + bf['Total Serious Injuries'] + bf['Total Minor Injuries'] + bf['Total Uninjured']\n",
    "bf['Survival rate'] = (bf['Total Serious Injuries'] + bf['Total Minor Injuries'] + bf['Total Uninjured']) / bf['Number of Passengers']"
   ]
  },
  {
   "cell_type": "code",
   "execution_count": 17,
   "metadata": {},
   "outputs": [],
   "source": [
    "# saving dataframe for airplanes\n",
    "bf_air = bf[bf['Aircraft Category'] == 'Airplane']\n",
    "\n",
    "# saving dataframe for helicopters\n",
    "bf_heli = bf[bf['Aircraft Category'] == 'Helicopter']"
   ]
  },
  {
   "cell_type": "markdown",
   "metadata": {},
   "source": [
    "## Airplanes"
   ]
  },
  {
   "cell_type": "code",
   "execution_count": 18,
   "metadata": {},
   "outputs": [
    {
     "data": {
      "image/png": "[encoded data removed]",
      "text/plain": [
       "<Figure size 1080x576 with 1 Axes>"
      ]
     },
     "metadata": {
      "needs_background": "light"
     },
     "output_type": "display_data"
    }
   ],
   "source": [
    "# Counting accidents per state\n",
    "state_counts = bf_air['State'].value_counts().reset_index()\n",
    "state_counts.columns = ['State', 'count']\n",
    "\n",
    "# Sorting and selecting top 15 states\n",
    "top_15_states = state_counts.nlargest(15, 'count')\n",
    "colors = plt.cm.tab20(np.linspace(0, 1, len(top_15_states)))\n",
    "\n",
    "plt.figure(figsize=(15, 8))\n",
    "plt.bar(top_15_states['State'], top_15_states['count'], color=colors)\n",
    "plt.title('Top 15 States by Number of Business Airplane Accidents')\n",
    "plt.xlabel('State')\n",
    "plt.ylabel('Number of Accidents')\n",
    "\n",
    "plt.show()"
   ]
  },
  {
   "cell_type": "code",
   "execution_count": 19,
   "metadata": {
    "scrolled": false
   },
   "outputs": [
    {
     "data": {
      "text/html": [
       "<div>\n",
       "<style scoped>\n",
       "    .dataframe tbody tr th:only-of-type {\n",
       "        vertical-align: middle;\n",
       "    }\n",
       "\n",
       "    .dataframe tbody tr th {\n",
       "        vertical-align: top;\n",
       "    }\n",
       "\n",
       "    .dataframe thead th {\n",
       "        text-align: right;\n",
       "    }\n",
       "</style>\n",
       "<table border=\"1\" class=\"dataframe\">\n",
       "  <thead>\n",
       "    <tr style=\"text-align: right;\">\n",
       "      <th></th>\n",
       "      <th>Make</th>\n",
       "      <th>Number of Engines</th>\n",
       "      <th>Total Fatal Injuries</th>\n",
       "      <th>Total Serious Injuries</th>\n",
       "      <th>Total Minor Injuries</th>\n",
       "      <th>Total Uninjured</th>\n",
       "      <th>Year</th>\n",
       "      <th>Month</th>\n",
       "      <th>Day</th>\n",
       "      <th>Number of Passengers</th>\n",
       "      <th>Survival rate</th>\n",
       "      <th>Total accidents</th>\n",
       "    </tr>\n",
       "  </thead>\n",
       "  <tbody>\n",
       "    <tr>\n",
       "      <th>19</th>\n",
       "      <td>Dehavilland</td>\n",
       "      <td>1.100000</td>\n",
       "      <td>0.000000</td>\n",
       "      <td>0.000000</td>\n",
       "      <td>0.000000</td>\n",
       "      <td>7.200000</td>\n",
       "      <td>2016.300000</td>\n",
       "      <td>7.000000</td>\n",
       "      <td>17.600000</td>\n",
       "      <td>7.200000</td>\n",
       "      <td>1.000000</td>\n",
       "      <td>10</td>\n",
       "    </tr>\n",
       "    <tr>\n",
       "      <th>58</th>\n",
       "      <td>Raytheon  craft</td>\n",
       "      <td>1.666667</td>\n",
       "      <td>0.444444</td>\n",
       "      <td>0.444444</td>\n",
       "      <td>0.222222</td>\n",
       "      <td>2.444444</td>\n",
       "      <td>2014.888889</td>\n",
       "      <td>6.111111</td>\n",
       "      <td>14.777778</td>\n",
       "      <td>3.555556</td>\n",
       "      <td>0.888889</td>\n",
       "      <td>9</td>\n",
       "    </tr>\n",
       "    <tr>\n",
       "      <th>11</th>\n",
       "      <td>Cessna</td>\n",
       "      <td>1.357143</td>\n",
       "      <td>0.400000</td>\n",
       "      <td>0.330769</td>\n",
       "      <td>0.192308</td>\n",
       "      <td>1.753846</td>\n",
       "      <td>2015.000000</td>\n",
       "      <td>7.030769</td>\n",
       "      <td>15.038462</td>\n",
       "      <td>2.676923</td>\n",
       "      <td>0.815128</td>\n",
       "      <td>130</td>\n",
       "    </tr>\n",
       "    <tr>\n",
       "      <th>54</th>\n",
       "      <td>Piper</td>\n",
       "      <td>1.224138</td>\n",
       "      <td>0.372881</td>\n",
       "      <td>0.169492</td>\n",
       "      <td>0.118644</td>\n",
       "      <td>1.559322</td>\n",
       "      <td>2014.288136</td>\n",
       "      <td>7.084746</td>\n",
       "      <td>16.152542</td>\n",
       "      <td>2.220339</td>\n",
       "      <td>0.806497</td>\n",
       "      <td>59</td>\n",
       "    </tr>\n",
       "    <tr>\n",
       "      <th>13</th>\n",
       "      <td>Cirrus</td>\n",
       "      <td>1.000000</td>\n",
       "      <td>0.437500</td>\n",
       "      <td>0.187500</td>\n",
       "      <td>0.125000</td>\n",
       "      <td>1.562500</td>\n",
       "      <td>2014.750000</td>\n",
       "      <td>7.687500</td>\n",
       "      <td>16.500000</td>\n",
       "      <td>2.312500</td>\n",
       "      <td>0.750000</td>\n",
       "      <td>16</td>\n",
       "    </tr>\n",
       "    <tr>\n",
       "      <th>4</th>\n",
       "      <td>Beech</td>\n",
       "      <td>1.620690</td>\n",
       "      <td>0.694915</td>\n",
       "      <td>0.169492</td>\n",
       "      <td>0.169492</td>\n",
       "      <td>1.423729</td>\n",
       "      <td>2015.152542</td>\n",
       "      <td>6.474576</td>\n",
       "      <td>16.423729</td>\n",
       "      <td>2.457627</td>\n",
       "      <td>0.669492</td>\n",
       "      <td>59</td>\n",
       "    </tr>\n",
       "  </tbody>\n",
       "</table>\n",
       "</div>"
      ],
      "text/plain": [
       "               Make  Number of Engines  Total Fatal Injuries  \\\n",
       "19      Dehavilland           1.100000              0.000000   \n",
       "58  Raytheon  craft           1.666667              0.444444   \n",
       "11           Cessna           1.357143              0.400000   \n",
       "54            Piper           1.224138              0.372881   \n",
       "13           Cirrus           1.000000              0.437500   \n",
       "4             Beech           1.620690              0.694915   \n",
       "\n",
       "    Total Serious Injuries  Total Minor Injuries  Total Uninjured  \\\n",
       "19                0.000000              0.000000         7.200000   \n",
       "58                0.444444              0.222222         2.444444   \n",
       "11                0.330769              0.192308         1.753846   \n",
       "54                0.169492              0.118644         1.559322   \n",
       "13                0.187500              0.125000         1.562500   \n",
       "4                 0.169492              0.169492         1.423729   \n",
       "\n",
       "           Year     Month        Day  Number of Passengers  Survival rate  \\\n",
       "19  2016.300000  7.000000  17.600000              7.200000       1.000000   \n",
       "58  2014.888889  6.111111  14.777778              3.555556       0.888889   \n",
       "11  2015.000000  7.030769  15.038462              2.676923       0.815128   \n",
       "54  2014.288136  7.084746  16.152542              2.220339       0.806497   \n",
       "13  2014.750000  7.687500  16.500000              2.312500       0.750000   \n",
       "4   2015.152542  6.474576  16.423729              2.457627       0.669492   \n",
       "\n",
       "    Total accidents  \n",
       "19               10  \n",
       "58                9  \n",
       "11              130  \n",
       "54               59  \n",
       "13               16  \n",
       "4                59  "
      ]
     },
     "execution_count": 19,
     "metadata": {},
     "output_type": "execute_result"
    }
   ],
   "source": [
    "# Grouping rows by Make. Calculating mean Survival rate and Total Accidents per Make\n",
    "\n",
    "group_columns = ['Make']\n",
    "\n",
    "bf_air_grouped = pd.merge(\n",
    "    bf_air.groupby(group_columns).mean(), # means\n",
    "    bf_air.groupby(group_columns).size().reset_index(name=\"Total accidents\"), # total\n",
    "    on=group_columns,\n",
    ")\n",
    "bf_air_grouped = bf_air_grouped[bf_air_grouped[\"Total accidents\"] > 5].sort_values(by='Survival rate', ascending=False)\n",
    "bf_air_grouped"
   ]
  },
  {
   "cell_type": "code",
   "execution_count": 20,
   "metadata": {
    "scrolled": true
   },
   "outputs": [
    {
     "data": {
      "image/png": "[encoded data removed]",
      "text/plain": [
       "<Figure size 864x288 with 1 Axes>"
      ]
     },
     "metadata": {
      "needs_background": "light"
     },
     "output_type": "display_data"
    }
   ],
   "source": [
    "# Plotting survival rate by make that had enough data\n",
    "\n",
    "plt.figure(figsize=(12,4))\n",
    "plt.bar(bf_air_grouped['Make'], bf_air_grouped['Survival rate'])\n",
    "plt.xlabel('Make')\n",
    "plt.ylabel('Survival Rate')\n",
    "plt.title('Survival Rate by Make')\n",
    "plt.xticks()\n",
    "plt.tight_layout()\n",
    "\n",
    "plt.show()\n"
   ]
  },
  {
   "cell_type": "code",
   "execution_count": 21,
   "metadata": {},
   "outputs": [
    {
     "data": {
      "text/html": [
       "<div>\n",
       "<style scoped>\n",
       "    .dataframe tbody tr th:only-of-type {\n",
       "        vertical-align: middle;\n",
       "    }\n",
       "\n",
       "    .dataframe tbody tr th {\n",
       "        vertical-align: top;\n",
       "    }\n",
       "\n",
       "    .dataframe thead th {\n",
       "        text-align: right;\n",
       "    }\n",
       "</style>\n",
       "<table border=\"1\" class=\"dataframe\">\n",
       "  <thead>\n",
       "    <tr style=\"text-align: right;\">\n",
       "      <th></th>\n",
       "      <th>Make</th>\n",
       "      <th>Year</th>\n",
       "      <th>Total accidents</th>\n",
       "    </tr>\n",
       "  </thead>\n",
       "  <tbody>\n",
       "    <tr>\n",
       "      <th>0</th>\n",
       "      <td>Aero  mmander</td>\n",
       "      <td>2013</td>\n",
       "      <td>1</td>\n",
       "    </tr>\n",
       "    <tr>\n",
       "      <th>1</th>\n",
       "      <td>Aero  mmander</td>\n",
       "      <td>2015</td>\n",
       "      <td>1</td>\n",
       "    </tr>\n",
       "    <tr>\n",
       "      <th>2</th>\n",
       "      <td>Aero  mmander</td>\n",
       "      <td>2019</td>\n",
       "      <td>1</td>\n",
       "    </tr>\n",
       "    <tr>\n",
       "      <th>3</th>\n",
       "      <td>Aero  mmander</td>\n",
       "      <td>2020</td>\n",
       "      <td>1</td>\n",
       "    </tr>\n",
       "    <tr>\n",
       "      <th>4</th>\n",
       "      <td>Aero Vodochody</td>\n",
       "      <td>2012</td>\n",
       "      <td>1</td>\n",
       "    </tr>\n",
       "    <tr>\n",
       "      <th>...</th>\n",
       "      <td>...</td>\n",
       "      <td>...</td>\n",
       "      <td>...</td>\n",
       "    </tr>\n",
       "    <tr>\n",
       "      <th>165</th>\n",
       "      <td>Tractor</td>\n",
       "      <td>2021</td>\n",
       "      <td>1</td>\n",
       "    </tr>\n",
       "    <tr>\n",
       "      <th>166</th>\n",
       "      <td>Ultramagic Sa</td>\n",
       "      <td>2013</td>\n",
       "      <td>1</td>\n",
       "    </tr>\n",
       "    <tr>\n",
       "      <th>167</th>\n",
       "      <td>Vans  craft</td>\n",
       "      <td>2021</td>\n",
       "      <td>1</td>\n",
       "    </tr>\n",
       "    <tr>\n",
       "      <th>168</th>\n",
       "      <td>Yuneec</td>\n",
       "      <td>2013</td>\n",
       "      <td>1</td>\n",
       "    </tr>\n",
       "    <tr>\n",
       "      <th>169</th>\n",
       "      <td>lumbia  craft Mfg</td>\n",
       "      <td>2017</td>\n",
       "      <td>1</td>\n",
       "    </tr>\n",
       "  </tbody>\n",
       "</table>\n",
       "<p>170 rows × 3 columns</p>\n",
       "</div>"
      ],
      "text/plain": [
       "                  Make  Year  Total accidents\n",
       "0        Aero  mmander  2013                1\n",
       "1        Aero  mmander  2015                1\n",
       "2        Aero  mmander  2019                1\n",
       "3        Aero  mmander  2020                1\n",
       "4       Aero Vodochody  2012                1\n",
       "..                 ...   ...              ...\n",
       "165            Tractor  2021                1\n",
       "166      Ultramagic Sa  2013                1\n",
       "167        Vans  craft  2021                1\n",
       "168             Yuneec  2013                1\n",
       "169  lumbia  craft Mfg  2017                1\n",
       "\n",
       "[170 rows x 3 columns]"
      ]
     },
     "execution_count": 21,
     "metadata": {},
     "output_type": "execute_result"
    }
   ],
   "source": [
    "# Grouping rows by Make and Year. Calculating Total accidents per Year\n",
    "\n",
    "group_columns_ts = ['Make', 'Year']\n",
    "bf_time = bf_air.groupby(group_columns_ts).size().reset_index(name=\"Total accidents\")\n",
    "bf_time"
   ]
  },
  {
   "cell_type": "code",
   "execution_count": 22,
   "metadata": {},
   "outputs": [
    {
     "data": {
      "text/html": [
       "<div>\n",
       "<style scoped>\n",
       "    .dataframe tbody tr th:only-of-type {\n",
       "        vertical-align: middle;\n",
       "    }\n",
       "\n",
       "    .dataframe tbody tr th {\n",
       "        vertical-align: top;\n",
       "    }\n",
       "\n",
       "    .dataframe thead th {\n",
       "        text-align: right;\n",
       "    }\n",
       "</style>\n",
       "<table border=\"1\" class=\"dataframe\">\n",
       "  <thead>\n",
       "    <tr style=\"text-align: right;\">\n",
       "      <th></th>\n",
       "      <th>Make</th>\n",
       "      <th>Model</th>\n",
       "      <th>Year</th>\n",
       "      <th>Survival rate</th>\n",
       "      <th>Count</th>\n",
       "    </tr>\n",
       "  </thead>\n",
       "  <tbody>\n",
       "    <tr>\n",
       "      <th>201</th>\n",
       "      <td>Cirrus</td>\n",
       "      <td>SF50</td>\n",
       "      <td>2021</td>\n",
       "      <td>1.0</td>\n",
       "      <td>1</td>\n",
       "    </tr>\n",
       "    <tr>\n",
       "      <th>202</th>\n",
       "      <td>Cirrus</td>\n",
       "      <td>SF50</td>\n",
       "      <td>2022</td>\n",
       "      <td>1.0</td>\n",
       "      <td>1</td>\n",
       "    </tr>\n",
       "    <tr>\n",
       "      <th>203</th>\n",
       "      <td>Cirrus</td>\n",
       "      <td>SR-22</td>\n",
       "      <td>2012</td>\n",
       "      <td>1.0</td>\n",
       "      <td>1</td>\n",
       "    </tr>\n",
       "    <tr>\n",
       "      <th>204</th>\n",
       "      <td>Cirrus</td>\n",
       "      <td>SR20</td>\n",
       "      <td>2012</td>\n",
       "      <td>1.0</td>\n",
       "      <td>1</td>\n",
       "    </tr>\n",
       "    <tr>\n",
       "      <th>210</th>\n",
       "      <td>Cirrus</td>\n",
       "      <td>SR22</td>\n",
       "      <td>2013</td>\n",
       "      <td>1.0</td>\n",
       "      <td>1</td>\n",
       "    </tr>\n",
       "    <tr>\n",
       "      <th>211</th>\n",
       "      <td>Cirrus</td>\n",
       "      <td>SR22</td>\n",
       "      <td>2015</td>\n",
       "      <td>1.0</td>\n",
       "      <td>1</td>\n",
       "    </tr>\n",
       "    <tr>\n",
       "      <th>212</th>\n",
       "      <td>Cirrus</td>\n",
       "      <td>SR22</td>\n",
       "      <td>2016</td>\n",
       "      <td>1.0</td>\n",
       "      <td>2</td>\n",
       "    </tr>\n",
       "    <tr>\n",
       "      <th>213</th>\n",
       "      <td>Cirrus</td>\n",
       "      <td>SR22</td>\n",
       "      <td>2017</td>\n",
       "      <td>1.0</td>\n",
       "      <td>1</td>\n",
       "    </tr>\n",
       "    <tr>\n",
       "      <th>214</th>\n",
       "      <td>Cirrus</td>\n",
       "      <td>SR22</td>\n",
       "      <td>2019</td>\n",
       "      <td>1.0</td>\n",
       "      <td>1</td>\n",
       "    </tr>\n",
       "    <tr>\n",
       "      <th>215</th>\n",
       "      <td>Cirrus</td>\n",
       "      <td>SR22</td>\n",
       "      <td>2020</td>\n",
       "      <td>1.0</td>\n",
       "      <td>1</td>\n",
       "    </tr>\n",
       "    <tr>\n",
       "      <th>206</th>\n",
       "      <td>Cirrus</td>\n",
       "      <td>SR22</td>\n",
       "      <td>2010</td>\n",
       "      <td>0.5</td>\n",
       "      <td>1</td>\n",
       "    </tr>\n",
       "    <tr>\n",
       "      <th>208</th>\n",
       "      <td>Cirrus</td>\n",
       "      <td>SR22</td>\n",
       "      <td>2011</td>\n",
       "      <td>0.5</td>\n",
       "      <td>1</td>\n",
       "    </tr>\n",
       "    <tr>\n",
       "      <th>205</th>\n",
       "      <td>Cirrus</td>\n",
       "      <td>SR22</td>\n",
       "      <td>2009</td>\n",
       "      <td>0.0</td>\n",
       "      <td>1</td>\n",
       "    </tr>\n",
       "    <tr>\n",
       "      <th>207</th>\n",
       "      <td>Cirrus</td>\n",
       "      <td>SR22</td>\n",
       "      <td>2011</td>\n",
       "      <td>0.0</td>\n",
       "      <td>1</td>\n",
       "    </tr>\n",
       "    <tr>\n",
       "      <th>209</th>\n",
       "      <td>Cirrus</td>\n",
       "      <td>SR22</td>\n",
       "      <td>2012</td>\n",
       "      <td>0.0</td>\n",
       "      <td>1</td>\n",
       "    </tr>\n",
       "  </tbody>\n",
       "</table>\n",
       "</div>"
      ],
      "text/plain": [
       "       Make  Model  Year  Survival rate  Count\n",
       "201  Cirrus   SF50  2021            1.0      1\n",
       "202  Cirrus   SF50  2022            1.0      1\n",
       "203  Cirrus  SR-22  2012            1.0      1\n",
       "204  Cirrus   SR20  2012            1.0      1\n",
       "210  Cirrus   SR22  2013            1.0      1\n",
       "211  Cirrus   SR22  2015            1.0      1\n",
       "212  Cirrus   SR22  2016            1.0      2\n",
       "213  Cirrus   SR22  2017            1.0      1\n",
       "214  Cirrus   SR22  2019            1.0      1\n",
       "215  Cirrus   SR22  2020            1.0      1\n",
       "206  Cirrus   SR22  2010            0.5      1\n",
       "208  Cirrus   SR22  2011            0.5      1\n",
       "205  Cirrus   SR22  2009            0.0      1\n",
       "207  Cirrus   SR22  2011            0.0      1\n",
       "209  Cirrus   SR22  2012            0.0      1"
      ]
     },
     "execution_count": 22,
     "metadata": {},
     "output_type": "execute_result"
    }
   ],
   "source": [
    "# Exploring Airplanes Models\n",
    "\n",
    "group_columns_air_models = ['Make', 'Model', 'Year', 'Survival rate']\n",
    "bf_air_models = bf_air.groupby(group_columns_air_models).size().reset_index(name=\"Count\")\n",
    "bf_air_models = bf_air_models[bf_air_models[\"Make\"] == 'Cirrus'].sort_values(by='Survival rate', ascending=False)\n",
    "bf_air_models"
   ]
  },
  {
   "cell_type": "code",
   "execution_count": 23,
   "metadata": {},
   "outputs": [
    {
     "data": {
      "text/plain": [
       "Text(0.5, 1.0, 'Total Accidents by Year for Each Make')"
      ]
     },
     "execution_count": 23,
     "metadata": {},
     "output_type": "execute_result"
    },
    {
     "data": {
      "image/png": "[encoded data removed]",
      "text/plain": [
       "<Figure size 1008x432 with 1 Axes>"
      ]
     },
     "metadata": {
      "needs_background": "light"
     },
     "output_type": "display_data"
    }
   ],
   "source": [
    "# Plotting total accident over years for each make\n",
    "\n",
    "plt.figure(figsize=(14, 6))\n",
    "for make in bf_air_grouped['Make'].unique():\n",
    "    this_make = bf_time[bf_time['Make'] == make]\n",
    "    sns.lineplot(x = this_make['Year'], y = this_make['Total accidents'], data = this_make, label=make)\n",
    "plt.title('Total Accidents by Year for Each Make')\n"
   ]
  },
  {
   "cell_type": "code",
   "execution_count": 24,
   "metadata": {},
   "outputs": [
    {
     "data": {
      "image/png": "[encoded data removed]",
      "text/plain": [
       "<Figure size 720x432 with 1 Axes>"
      ]
     },
     "metadata": {
      "needs_background": "light"
     },
     "output_type": "display_data"
    }
   ],
   "source": [
    "#Counting accidents in each month for airplanes\n",
    "bf_month_air = bf_air.groupby('Month')['Event Id'].count().reset_index(name='count')\n",
    "\n",
    "x_m = bf_month_air['Month']\n",
    "y_m = bf_month_air['count']\n",
    "\n",
    "# Plotting business flights accidents by months\n",
    "plt.figure(figsize=(10, 6))\n",
    "plt.bar(x_m, y_m)\n",
    "plt.xlabel('Month')\n",
    "plt.ylabel('Count of Accidents')\n",
    "plt.title('Count of Business Flights Accidents in Airplanes')\n",
    "plt.xticks(ticks=range(1, 13), labels=['Jan', 'Feb', 'Mar', 'Apr', 'May', 'Jun', 'Jul', 'Aug', 'Sep', 'Oct', 'Nov', 'Dec'])\n",
    "plt.grid(axis='y')\n",
    "plt.show()"
   ]
  },
  {
   "cell_type": "markdown",
   "metadata": {},
   "source": [
    "## Helicopters"
   ]
  },
  {
   "cell_type": "code",
   "execution_count": 25,
   "metadata": {},
   "outputs": [
    {
     "data": {
      "text/html": [
       "<div>\n",
       "<style scoped>\n",
       "    .dataframe tbody tr th:only-of-type {\n",
       "        vertical-align: middle;\n",
       "    }\n",
       "\n",
       "    .dataframe tbody tr th {\n",
       "        vertical-align: top;\n",
       "    }\n",
       "\n",
       "    .dataframe thead th {\n",
       "        text-align: right;\n",
       "    }\n",
       "</style>\n",
       "<table border=\"1\" class=\"dataframe\">\n",
       "  <thead>\n",
       "    <tr style=\"text-align: right;\">\n",
       "      <th></th>\n",
       "      <th>Make</th>\n",
       "      <th>Number of Engines</th>\n",
       "      <th>Total Fatal Injuries</th>\n",
       "      <th>Total Serious Injuries</th>\n",
       "      <th>Total Minor Injuries</th>\n",
       "      <th>Total Uninjured</th>\n",
       "      <th>Year</th>\n",
       "      <th>Month</th>\n",
       "      <th>Day</th>\n",
       "      <th>Number of Passengers</th>\n",
       "      <th>Survival rate</th>\n",
       "      <th>Total accidents</th>\n",
       "    </tr>\n",
       "  </thead>\n",
       "  <tbody>\n",
       "    <tr>\n",
       "      <th>6</th>\n",
       "      <td>Hughes</td>\n",
       "      <td>1.000000</td>\n",
       "      <td>0.000000</td>\n",
       "      <td>0.333333</td>\n",
       "      <td>1.166667</td>\n",
       "      <td>0.666667</td>\n",
       "      <td>2014.500000</td>\n",
       "      <td>7.166667</td>\n",
       "      <td>13.166667</td>\n",
       "      <td>2.166667</td>\n",
       "      <td>1.000000</td>\n",
       "      <td>6</td>\n",
       "    </tr>\n",
       "    <tr>\n",
       "      <th>1</th>\n",
       "      <td>Bell</td>\n",
       "      <td>1.076923</td>\n",
       "      <td>0.071429</td>\n",
       "      <td>0.428571</td>\n",
       "      <td>0.142857</td>\n",
       "      <td>1.642857</td>\n",
       "      <td>2015.285714</td>\n",
       "      <td>6.285714</td>\n",
       "      <td>13.642857</td>\n",
       "      <td>2.285714</td>\n",
       "      <td>0.928571</td>\n",
       "      <td>14</td>\n",
       "    </tr>\n",
       "    <tr>\n",
       "      <th>9</th>\n",
       "      <td>Robinson</td>\n",
       "      <td>1.000000</td>\n",
       "      <td>0.264706</td>\n",
       "      <td>0.588235</td>\n",
       "      <td>0.294118</td>\n",
       "      <td>1.205882</td>\n",
       "      <td>2015.058824</td>\n",
       "      <td>7.029412</td>\n",
       "      <td>15.823529</td>\n",
       "      <td>2.352941</td>\n",
       "      <td>0.897059</td>\n",
       "      <td>34</td>\n",
       "    </tr>\n",
       "  </tbody>\n",
       "</table>\n",
       "</div>"
      ],
      "text/plain": [
       "       Make  Number of Engines  Total Fatal Injuries  Total Serious Injuries  \\\n",
       "6    Hughes           1.000000              0.000000                0.333333   \n",
       "1      Bell           1.076923              0.071429                0.428571   \n",
       "9  Robinson           1.000000              0.264706                0.588235   \n",
       "\n",
       "   Total Minor Injuries  Total Uninjured         Year     Month        Day  \\\n",
       "6              1.166667         0.666667  2014.500000  7.166667  13.166667   \n",
       "1              0.142857         1.642857  2015.285714  6.285714  13.642857   \n",
       "9              0.294118         1.205882  2015.058824  7.029412  15.823529   \n",
       "\n",
       "   Number of Passengers  Survival rate  Total accidents  \n",
       "6              2.166667       1.000000                6  \n",
       "1              2.285714       0.928571               14  \n",
       "9              2.352941       0.897059               34  "
      ]
     },
     "execution_count": 25,
     "metadata": {},
     "output_type": "execute_result"
    }
   ],
   "source": [
    "# Grouping rows by Make. Calculating mean Survival rate and Total Accidents per Make\n",
    "\n",
    "group_columns_heli = ['Make']\n",
    "\n",
    "bf_heli_grouped = pd.merge(\n",
    "    bf_heli.groupby(group_columns_heli).mean(), # means\n",
    "    bf_heli.groupby(group_columns_heli).size().reset_index(name=\"Total accidents\"), # total\n",
    "    on=group_columns_heli,\n",
    ")\n",
    "bf_heli_grouped = bf_heli_grouped[bf_heli_grouped[\"Total accidents\"] > 5].sort_values(by='Survival rate', ascending=False)\n",
    "bf_heli_grouped"
   ]
  },
  {
   "cell_type": "code",
   "execution_count": 26,
   "metadata": {},
   "outputs": [
    {
     "data": {
      "image/png": "[encoded data removed]",
      "text/plain": [
       "<Figure size 1080x576 with 1 Axes>"
      ]
     },
     "metadata": {
      "needs_background": "light"
     },
     "output_type": "display_data"
    }
   ],
   "source": [
    "# Counting accidents per state\n",
    "state_counts_heli = bf_heli['State'].value_counts().reset_index()\n",
    "state_counts_heli.columns = ['State', 'count']\n",
    "\n",
    "# Sorting and selecting top 15 states\n",
    "top_15_states_heli = state_counts_heli.nlargest(15, 'count')\n",
    "colors = plt.cm.tab20(np.linspace(0, 1, len(top_15_states)))\n",
    "\n",
    "plt.figure(figsize=(15, 8))  # Make the figure wider\n",
    "plt.bar(top_15_states_heli['State'], top_15_states_heli['count'], color=colors)\n",
    "plt.title('Top 15 States by Number of Business Helicopter Accidents')\n",
    "plt.xlabel('State')\n",
    "plt.ylabel('Number of Accidents')\n",
    "\n",
    "plt.show()"
   ]
  },
  {
   "cell_type": "code",
   "execution_count": 27,
   "metadata": {},
   "outputs": [
    {
     "data": {
      "text/html": [
       "<div>\n",
       "<style scoped>\n",
       "    .dataframe tbody tr th:only-of-type {\n",
       "        vertical-align: middle;\n",
       "    }\n",
       "\n",
       "    .dataframe tbody tr th {\n",
       "        vertical-align: top;\n",
       "    }\n",
       "\n",
       "    .dataframe thead th {\n",
       "        text-align: right;\n",
       "    }\n",
       "</style>\n",
       "<table border=\"1\" class=\"dataframe\">\n",
       "  <thead>\n",
       "    <tr style=\"text-align: right;\">\n",
       "      <th></th>\n",
       "      <th>Make</th>\n",
       "      <th>Model</th>\n",
       "      <th>Year</th>\n",
       "      <th>Survival rate</th>\n",
       "      <th>Count</th>\n",
       "    </tr>\n",
       "  </thead>\n",
       "  <tbody>\n",
       "    <tr>\n",
       "      <th>3</th>\n",
       "      <td>Bell</td>\n",
       "      <td>206</td>\n",
       "      <td>2019</td>\n",
       "      <td>1.0</td>\n",
       "      <td>1</td>\n",
       "    </tr>\n",
       "    <tr>\n",
       "      <th>4</th>\n",
       "      <td>Bell</td>\n",
       "      <td>206</td>\n",
       "      <td>2022</td>\n",
       "      <td>1.0</td>\n",
       "      <td>2</td>\n",
       "    </tr>\n",
       "    <tr>\n",
       "      <th>5</th>\n",
       "      <td>Bell</td>\n",
       "      <td>206 L4</td>\n",
       "      <td>2016</td>\n",
       "      <td>1.0</td>\n",
       "      <td>1</td>\n",
       "    </tr>\n",
       "    <tr>\n",
       "      <th>6</th>\n",
       "      <td>Bell</td>\n",
       "      <td>206B</td>\n",
       "      <td>2013</td>\n",
       "      <td>1.0</td>\n",
       "      <td>2</td>\n",
       "    </tr>\n",
       "    <tr>\n",
       "      <th>7</th>\n",
       "      <td>Bell</td>\n",
       "      <td>206B3</td>\n",
       "      <td>2007</td>\n",
       "      <td>1.0</td>\n",
       "      <td>1</td>\n",
       "    </tr>\n",
       "    <tr>\n",
       "      <th>9</th>\n",
       "      <td>Bell</td>\n",
       "      <td>206L-3</td>\n",
       "      <td>2012</td>\n",
       "      <td>1.0</td>\n",
       "      <td>2</td>\n",
       "    </tr>\n",
       "    <tr>\n",
       "      <th>10</th>\n",
       "      <td>Bell</td>\n",
       "      <td>407</td>\n",
       "      <td>2021</td>\n",
       "      <td>1.0</td>\n",
       "      <td>1</td>\n",
       "    </tr>\n",
       "    <tr>\n",
       "      <th>11</th>\n",
       "      <td>Bell</td>\n",
       "      <td>430</td>\n",
       "      <td>2014</td>\n",
       "      <td>1.0</td>\n",
       "      <td>1</td>\n",
       "    </tr>\n",
       "    <tr>\n",
       "      <th>12</th>\n",
       "      <td>Bell</td>\n",
       "      <td>47D1</td>\n",
       "      <td>2014</td>\n",
       "      <td>1.0</td>\n",
       "      <td>1</td>\n",
       "    </tr>\n",
       "    <tr>\n",
       "      <th>13</th>\n",
       "      <td>Bell</td>\n",
       "      <td>AH-1F</td>\n",
       "      <td>2012</td>\n",
       "      <td>1.0</td>\n",
       "      <td>1</td>\n",
       "    </tr>\n",
       "    <tr>\n",
       "      <th>8</th>\n",
       "      <td>Bell</td>\n",
       "      <td>206L 3</td>\n",
       "      <td>2017</td>\n",
       "      <td>0.0</td>\n",
       "      <td>1</td>\n",
       "    </tr>\n",
       "  </tbody>\n",
       "</table>\n",
       "</div>"
      ],
      "text/plain": [
       "    Make   Model  Year  Survival rate  Count\n",
       "3   Bell     206  2019            1.0      1\n",
       "4   Bell     206  2022            1.0      2\n",
       "5   Bell  206 L4  2016            1.0      1\n",
       "6   Bell    206B  2013            1.0      2\n",
       "7   Bell   206B3  2007            1.0      1\n",
       "9   Bell  206L-3  2012            1.0      2\n",
       "10  Bell     407  2021            1.0      1\n",
       "11  Bell     430  2014            1.0      1\n",
       "12  Bell    47D1  2014            1.0      1\n",
       "13  Bell   AH-1F  2012            1.0      1\n",
       "8   Bell  206L 3  2017            0.0      1"
      ]
     },
     "execution_count": 27,
     "metadata": {},
     "output_type": "execute_result"
    }
   ],
   "source": [
    "# Exploring Helicopter Models for Bell, Robinson and Hughes\n",
    "\n",
    "group_columns_models = ['Make', 'Model', 'Year', 'Survival rate']\n",
    "bf_models = bf_heli.groupby(group_columns_models).size().reset_index(name=\"Count\")\n",
    "bf_models = bf_models[bf_models[\"Make\"] == 'Bell'].sort_values(by='Survival rate', ascending=False)\n",
    "bf_models"
   ]
  },
  {
   "cell_type": "code",
   "execution_count": 28,
   "metadata": {},
   "outputs": [
    {
     "data": {
      "image/png": "[encoded data removed]",
      "text/plain": [
       "<Figure size 720x288 with 1 Axes>"
      ]
     },
     "metadata": {
      "needs_background": "light"
     },
     "output_type": "display_data"
    }
   ],
   "source": [
    "#Plotting survival rate by make\n",
    "\n",
    "plt.figure(figsize=(10, 4))\n",
    "plt.bar(bf_heli_grouped['Make'], bf_heli_grouped['Survival rate'])\n",
    "plt.xlabel('Make')\n",
    "plt.ylabel('Survival Rate')\n",
    "plt.title('Survival Rate by Make')\n",
    "plt.xticks()\n",
    "plt.tight_layout()\n",
    "\n",
    "plt.show()"
   ]
  },
  {
   "cell_type": "code",
   "execution_count": 29,
   "metadata": {},
   "outputs": [],
   "source": [
    "# Grouping rows by Make. Calculating Total accidents per Year\n",
    "\n",
    "group_columns_heli_ts = ['Make', 'Year']\n",
    "bf_time_heli = bf_heli.groupby(group_columns_heli_ts).size().reset_index(name=\"Total accidents\")"
   ]
  },
  {
   "cell_type": "code",
   "execution_count": 30,
   "metadata": {},
   "outputs": [
    {
     "data": {
      "text/plain": [
       "Text(0.5, 1.0, 'Total Accidents by Year for Each Make')"
      ]
     },
     "execution_count": 30,
     "metadata": {},
     "output_type": "execute_result"
    },
    {
     "data": {
      "image/png": "[encoded data removed]",
      "text/plain": [
       "<Figure size 1008x432 with 1 Axes>"
      ]
     },
     "metadata": {
      "needs_background": "light"
     },
     "output_type": "display_data"
    }
   ],
   "source": [
    "plt.figure(figsize=(14, 6))\n",
    "for make in bf_heli_grouped['Make'].unique():\n",
    "    this_make = bf_time_heli[bf_time_heli['Make'] == make]\n",
    "    sns.lineplot(x = this_make['Year'], y = this_make['Total accidents'], data = this_make, label=make)\n",
    "plt.title('Total Accidents by Year for Each Make')"
   ]
  },
  {
   "cell_type": "code",
   "execution_count": 31,
   "metadata": {},
   "outputs": [
    {
     "data": {
      "image/png": "[encoded data removed]",
      "text/plain": [
       "<Figure size 720x432 with 1 Axes>"
      ]
     },
     "metadata": {
      "needs_background": "light"
     },
     "output_type": "display_data"
    }
   ],
   "source": [
    "#Counting accidents in each month for helicopters\n",
    "bf_month_heli = bf_heli.groupby('Month')['Event Id'].count().reset_index(name='count')\n",
    "\n",
    "x_m_heli = bf_month_heli['Month']\n",
    "y_m_heli = bf_month_heli['count']\n",
    "\n",
    "# Plotting business flights accidents by months\n",
    "plt.figure(figsize=(10, 6))\n",
    "plt.bar(x_m_heli, y_m_heli)\n",
    "plt.xlabel('Month')\n",
    "plt.ylabel('Count of Accidents for Helicopters')\n",
    "plt.title('Count of Business Flights Accidents by Month in Helicopters')\n",
    "plt.xticks(ticks=range(1, 13), labels=['Jan', 'Feb', 'Mar', 'Apr', 'May', 'Jun', 'Jul', 'Aug', 'Sep', 'Oct', 'Nov', 'Dec'])\n",
    "plt.grid(axis='y')\n",
    "plt.show()"
   ]
  },
  {
   "cell_type": "markdown",
   "metadata": {},
   "source": [
    "## Summary\n",
    "\n",
    "Based on the analysis of the provided aviation accidents data, here are the key findings and actionable insights to help decide which aircraft to purchase for the new aviation division:\n",
    "\n",
    "1. **Business Airplane Flights Division**:\n",
    "\n",
    "**Insight:** Airplanes models with higher survival rates are preferable as they show better safety for potential clients.\n",
    "\n",
    "**Action:** Prioritize when considering airplanes from following manufacturers: Piper, Cessna, Cirrus.\n",
    "\n",
    "Airplanes Models to consider:\n",
    "* Piper - M350 and M500 (formerly PA-46).\n",
    "* Cessna - Citation line, Model 525 and 700.\n",
    "* Cirrus - SR 22.\n",
    "\n",
    "States with higher risk to avoid: Alaska, Texas.\n",
    "\n",
    "July and August are higher risk months, lowest risk are December and January.\n",
    "\n",
    "\n",
    "2. **Business Helicopter Flights Division**:\n",
    "\n",
    "**Insight:** Helicopter models with higher survival rates are preferable as they show better safety for potential clients.\n",
    "\n",
    "**Action:** Prioritize when considering helicopters from following manufacturers: Bell Make and Robinson.\n",
    "\n",
    "Helicopters Models to concider:\n",
    "* Robinson R44 and R44 II.\n",
    "* Bell 407.\n",
    "\n",
    "States with higher risk to avoid: Texas, Arizona.\n",
    "\n",
    "August and September are higher risk months, lowest risk are December through April."
   ]
  },
  {
   "cell_type": "markdown",
   "metadata": {},
   "source": [
    "## Nest Steps\n",
    "\n",
    "#### What can be done for further analysis?\n",
    "\n",
    "* Analyze the total flight hours to understand accident rates per flight hour/mile flown.\n",
    "\n",
    "* Investigate if certain regions have higher chances of accidents per flight/landing/take off.\n",
    "\n",
    "* Look at the correlation between the age of the aircraft and accident rates.\n",
    "\n",
    "\n",
    "#### Why this analysis might not solve business problem?\n",
    "\n",
    "\n",
    "* Missing or incomplete accident reports and flight data can lead to skewed results.\n",
    "\n",
    "* Only major accidents are reported, missing minor incidents.\n",
    "\n",
    "* Limited dataset with no data outside of accidents.\n",
    "\n",
    "#### What additional reserach is needed for business decisions?\n",
    "\n",
    "* Market Research - In-depth analysis of market trends and customer preferences\n",
    "\n",
    "* Profitability - Evaluation of potential revenue streams and cost management\n",
    "\n",
    "* Operational Feasibility - Assessment of logistics, safety, and regulatory requirements."
   ]
  },
  {
   "cell_type": "markdown",
   "metadata": {},
   "source": [
    "#### Links\n",
    "\n",
    "[Github repository for the project](https://github.com/dolgorp/phase1_project)\n",
    "\n",
    "[Tableau dashborad](https://public.tableau.com/app/profile/dolgor.purbueva/viz/AviationAccidentsProject/Dashboard)"
   ]
  }
 ],
 "metadata": {
  "kaggle": {
   "accelerator": "none",
   "dataSources": [
    {
     "datasetId": 521,
     "sourceId": 4875576,
     "sourceType": "datasetVersion"
    }
   ],
   "dockerImageVersionId": 30698,
   "isGpuEnabled": false,
   "isInternetEnabled": true,
   "language": "python",
   "sourceType": "notebook"
  },
  "kernelspec": {
   "display_name": "Python 3",
   "language": "python",
   "name": "python3"
  },
  "language_info": {
   "codemirror_mode": {
    "name": "ipython",
    "version": 3
   },
   "file_extension": ".py",
   "mimetype": "text/x-python",
   "name": "python",
   "nbconvert_exporter": "python",
   "pygments_lexer": "ipython3",
   "version": "3.8.5"
  }
 },
 "nbformat": 4,
 "nbformat_minor": 4
}
